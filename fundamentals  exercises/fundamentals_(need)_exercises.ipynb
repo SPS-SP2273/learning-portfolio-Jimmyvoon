{
 "cells": [
  {
   "attachments": {},
   "cell_type": "markdown",
   "id": "123456",
   "metadata": {},
   "source": [
    "<div style=\"text-align:left;font-size:2em\"><span style=\"font-weight:bolder;font-size:1.25em\">SP2273 | Learning Portfolio</span><br><br><span style=\"font-weight:bold;color:darkred\">Fundamentals (Need) Exercises</span></div>"
   ]
  },
  {
   "cell_type": "markdown",
   "id": "7d03dd0a-ac47-42df-bfe7-c5b3669af438",
   "metadata": {},
   "source": [
    "Variable,\n",
    "Packages -- give Python superpower need to import beforehand,\n",
    "dot -- dictate ownership,\n",
    "if else,\n",
    "number, string,\n",
    "function -- put () behind the function"
   ]
  },
  {
   "cell_type": "markdown",
   "id": "be97259e-e99d-4bc4-9d50-2f04554f5dc6",
   "metadata": {},
   "source": [
    "Python is sensitive,\n",
    "Comments,\n",
    "= is not the same as ==,\n",
    "Use if to make decisions,\n",
    "Indentations (spaces) are sooo IMPORTANT!,\n",
    " ‘age’ is English, age is a variable,\n",
    " Brackets"
   ]
  },
  {
   "cell_type": "code",
   "execution_count": null,
   "id": "7e560192-16fe-4fda-95db-e1e75b991725",
   "metadata": {},
   "outputs": [],
   "source": []
  },
  {
   "cell_type": "code",
   "execution_count": null,
   "id": "0fdb69c1-a19d-453c-aac0-9d36e2354e7b",
   "metadata": {},
   "outputs": [],
   "source": []
  }
 ],
 "metadata": {
  "kernelspec": {
   "display_name": "Python 3 (ipykernel)",
   "language": "python",
   "name": "python3"
  },
  "language_info": {
   "codemirror_mode": {
    "name": "ipython",
    "version": 3
   },
   "file_extension": ".py",
   "mimetype": "text/x-python",
   "name": "python",
   "nbconvert_exporter": "python",
   "pygments_lexer": "ipython3",
   "version": "3.11.5"
  },
  "toc": {
   "base_numbering": 1,
   "nav_menu": {},
   "number_sections": true,
   "sideBar": true,
   "skip_h1_title": false,
   "title_cell": "Table of Contents",
   "title_sidebar": "Contents",
   "toc_cell": false,
   "toc_position": {},
   "toc_section_display": true,
   "toc_window_display": false
  },
  "vscode": {
   "interpreter": {
    "hash": "31f2aee4e71d21fbe5cf8b01ff0e069b9275f58929596ceb00d14d90e3e16cd6"
   }
  }
 },
 "nbformat": 4,
 "nbformat_minor": 5
}
