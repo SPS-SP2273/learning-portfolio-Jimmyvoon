{
 "cells": [
  {
   "cell_type": "markdown",
   "id": "123456",
   "metadata": {},
   "source": [
    "<div style=\"text-align:left;font-size:2em\"><span style=\"font-weight:bolder;font-size:1.25em\">SP2273 | Learning Portfolio</span><br><br><span style=\"font-weight:bold;color:darkred\">Fundamentals (Need) Exercises</span></div>"
   ]
  },
  {
   "cell_type": "markdown",
   "id": "7d03dd0a-ac47-42df-bfe7-c5b3669af438",
   "metadata": {},
   "source": [
    "# Exercise 1"
   ]
  },
  {
   "cell_type": "markdown",
   "id": "b2fe4377",
   "metadata": {},
   "source": [
    "## Function"
   ]
  },
  {
   "cell_type": "markdown",
   "id": "a7d0b456",
   "metadata": {},
   "source": [
    "- it is something that do a specific task\n",
    "- followed by a parenthesis which accept arguments (can be one or many)"
   ]
  },
  {
   "cell_type": "markdown",
   "id": "cefe02c8",
   "metadata": {},
   "source": [
    "## Python is case sensitive"
   ]
  },
  {
   "cell_type": "markdown",
   "id": "de8f45dd",
   "metadata": {},
   "source": [
    "- uppercase is different from lowercase in python\n",
    "- age=23 and Age=30 are different as they are different variables"
   ]
  },
  {
   "cell_type": "markdown",
   "id": "85e5210b",
   "metadata": {},
   "source": [
    "## Comment"
   ]
  },
  {
   "cell_type": "markdown",
   "id": "c0d49e32",
   "metadata": {},
   "source": [
    "- inserting a # in front of the statement becomes a comment\n",
    "- comments will not affect the code"
   ]
  },
  {
   "cell_type": "markdown",
   "id": "a5de2a01",
   "metadata": {},
   "source": [
    "## = is not the same as =="
   ]
  },
  {
   "cell_type": "markdown",
   "id": "1e9bfc26",
   "metadata": {},
   "source": [
    "- = is usually used for assigning values to the variables\n",
    "- == is usually used to compare the value between the two data, if they are the same then they are equivalence, but they might not be the same thing"
   ]
  },
  {
   "cell_type": "markdown",
   "id": "c549bb24",
   "metadata": {},
   "source": [
    "------------------------------------------------------------"
   ]
  },
  {
   "cell_type": "markdown",
   "id": "67b8874c",
   "metadata": {},
   "source": [
    "## Indentations are important"
   ]
  },
  {
   "cell_type": "markdown",
   "id": "493e0c6d",
   "metadata": {},
   "source": [
    "- indentations can interupt how python interprete the code, leading to error\n",
    "- it also makes the code looks nicer and organized"
   ]
  },
  {
   "cell_type": "markdown",
   "id": "f9f897fc",
   "metadata": {},
   "source": [
    "## Brackets"
   ]
  },
  {
   "cell_type": "markdown",
   "id": "b06edc1f",
   "metadata": {},
   "source": [
    "- have (),[], and {}\n",
    "- () are used when defining a function or tuples\n",
    "- [] are usually used to enclosed a list\n",
    "- {} is a bracket for dictionary"
   ]
  },
  {
   "cell_type": "markdown",
   "id": "b2b682ff",
   "metadata": {},
   "source": [
    "## Packages in python"
   ]
  },
  {
   "cell_type": "markdown",
   "id": "4600766d",
   "metadata": {},
   "source": [
    "- giving extra functions to the module we are working on so we can assess them\n",
    "- these are imported from another module"
   ]
  },
  {
   "cell_type": "markdown",
   "id": "0e25c983",
   "metadata": {},
   "source": [
    "## Differentiating string and variable"
   ]
  },
  {
   "cell_type": "markdown",
   "id": "7d3baae0",
   "metadata": {},
   "source": [
    "- a declared variable can be used without ''\n",
    "- when you have to used a string, use them with '', ie 'age', so age will be a string"
   ]
  },
  {
   "cell_type": "markdown",
   "id": "15b147d5",
   "metadata": {},
   "source": [
    "## Use if to make decision"
   ]
  },
  {
   "cell_type": "markdown",
   "id": "8df139e5",
   "metadata": {},
   "source": [
    "- use if to ask a statement, if it is true them execute a task, and execute another task if it is false"
   ]
  },
  {
   "cell_type": "markdown",
   "id": "ff2da301",
   "metadata": {},
   "source": [
    "# Exercise 2"
   ]
  },
  {
   "cell_type": "code",
   "execution_count": 6,
   "id": "7e560192-16fe-4fda-95db-e1e75b991725",
   "metadata": {},
   "outputs": [
    {
     "name": "stdout",
     "output_type": "stream",
     "text": [
      "3 4 5.0\n"
     ]
    }
   ],
   "source": [
    "import math\n",
    "x, y = 3, 4\n",
    "z = math.sqrt(x**2 + y**2)\n",
    "print(x, y, z)"
   ]
  },
  {
   "cell_type": "markdown",
   "id": "ac2ab227",
   "metadata": {},
   "source": [
    "Function: functions executes a specific task based on the instructions defined by us"
   ]
  },
  {
   "cell_type": "markdown",
   "id": "00896db2",
   "metadata": {},
   "source": [
    "Arguments:arguments are the parameter we input when we want to call a function"
   ]
  },
  {
   "cell_type": "markdown",
   "id": "3c4aac17",
   "metadata": {},
   "source": [
    "Comments:comments are ignored and will not be executed in Python"
   ]
  },
  {
   "cell_type": "markdown",
   "id": "5bc34056",
   "metadata": {},
   "source": [
    "Indentations: The use of indentations make the code easy to read and classfy"
   ]
  },
  {
   "cell_type": "markdown",
   "id": "d34f9d33",
   "metadata": {},
   "source": [
    "Packages:packages grant python special abilities to perform tasks more easily"
   ]
  },
  {
   "cell_type": "markdown",
   "id": "2279425e",
   "metadata": {},
   "source": [
    "\".\": Dot is used to dictate ownership in Python"
   ]
  },
  {
   "cell_type": "markdown",
   "id": "418a3e84",
   "metadata": {},
   "source": [
    "\":\": : is often followed by a statement to make it a premise"
   ]
  },
  {
   "cell_type": "markdown",
   "id": "de5d5e89",
   "metadata": {},
   "source": [
    "\"[]\": Python uses [] to store data as a list"
   ]
  },
  {
   "cell_type": "markdown",
   "id": "40d46b3a",
   "metadata": {},
   "source": [
    "\"[[[]]]\": If there is a [] inside a [], then there are lists inside a list, making it a 2D list"
   ]
  },
  {
   "cell_type": "markdown",
   "id": "2f68b740",
   "metadata": {},
   "source": [
    "\"{}\": Python uses {} as a dictionary which can be used to store value in each key"
   ]
  },
  {
   "cell_type": "code",
   "execution_count": null,
   "id": "9a49e844",
   "metadata": {},
   "outputs": [],
   "source": [
    "5/2           # 5*2**(-1)"
   ]
  },
  {
   "cell_type": "code",
   "execution_count": null,
   "id": "9df2e798",
   "metadata": {},
   "outputs": [],
   "source": [
    "5//2          # int(5/2)"
   ]
  },
  {
   "cell_type": "code",
   "execution_count": null,
   "id": "c1a181b3",
   "metadata": {},
   "outputs": [],
   "source": [
    "5%2           # 5-(5//2)*2"
   ]
  }
 ],
 "metadata": {
  "kernelspec": {
   "display_name": "Python 3 (ipykernel)",
   "language": "python",
   "name": "python3"
  },
  "language_info": {
   "codemirror_mode": {
    "name": "ipython",
    "version": 3
   },
   "file_extension": ".py",
   "mimetype": "text/x-python",
   "name": "python",
   "nbconvert_exporter": "python",
   "pygments_lexer": "ipython3",
   "version": "3.11.5"
  },
  "toc": {
   "base_numbering": 1,
   "nav_menu": {},
   "number_sections": true,
   "sideBar": true,
   "skip_h1_title": false,
   "title_cell": "Table of Contents",
   "title_sidebar": "Contents",
   "toc_cell": false,
   "toc_position": {},
   "toc_section_display": true,
   "toc_window_display": false
  },
  "varInspector": {
   "cols": {
    "lenName": 16,
    "lenType": 16,
    "lenVar": 40
   },
   "kernels_config": {
    "python": {
     "delete_cmd_postfix": "",
     "delete_cmd_prefix": "del ",
     "library": "var_list.py",
     "varRefreshCmd": "print(var_dic_list())"
    },
    "r": {
     "delete_cmd_postfix": ") ",
     "delete_cmd_prefix": "rm(",
     "library": "var_list.r",
     "varRefreshCmd": "cat(var_dic_list()) "
    }
   },
   "types_to_exclude": [
    "module",
    "function",
    "builtin_function_or_method",
    "instance",
    "_Feature"
   ],
   "window_display": false
  },
  "vscode": {
   "interpreter": {
    "hash": "31f2aee4e71d21fbe5cf8b01ff0e069b9275f58929596ceb00d14d90e3e16cd6"
   }
  }
 },
 "nbformat": 4,
 "nbformat_minor": 5
}
