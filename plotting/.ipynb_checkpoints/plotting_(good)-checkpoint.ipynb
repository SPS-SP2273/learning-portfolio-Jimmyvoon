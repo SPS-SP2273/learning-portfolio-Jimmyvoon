{
 "cells": [
  {
   "cell_type": "markdown",
   "id": "123456",
   "metadata": {},
   "source": [
    "<div style=\"text-align:left;font-size:2em\"><span style=\"font-weight:bolder;font-size:1.25em\">SP2273 | Learning Portfolio</span><br><br><span style=\"font-weight:bold;color:darkred\">Plotting (Good)</span></div>"
   ]
  },
  {
   "cell_type": "markdown",
   "id": "02abda30",
   "metadata": {},
   "source": [
    "# What to expect in this chapter"
   ]
  },
  {
   "cell_type": "markdown",
   "id": "d7f3e9d9",
   "metadata": {},
   "source": [
    "# 1 Some nomenclature"
   ]
  },
  {
   "cell_type": "markdown",
   "id": "c2fea521",
   "metadata": {},
   "source": [
    "A figure is simple; it is the full canvas you use to draw stuff on. An axis is the individual mathematical axes we use for plotting. So, one figure can have multiple axes, as shown below, where we have a (single) figure with four axes.\n",
    "\n"
   ]
  },
  {
   "cell_type": "markdown",
   "id": "96ef15b6",
   "metadata": {},
   "source": [
    "![](https://sps.nus.edu.sg/sp2273/docs/python_basics/07_plotting/__imgs__/plotting_good_exercise-01_solution.png)"
   ]
  },
  {
   "cell_type": "markdown",
   "id": "c63493ee",
   "metadata": {},
   "source": [
    "# 2 Comparing the two ‘dialects’"
   ]
  },
  {
   "cell_type": "markdown",
   "id": "676e1555",
   "metadata": {},
   "source": [
    "### pyplot Interface"
   ]
  },
  {
   "cell_type": "code",
   "execution_count": null,
   "id": "d84a41b5",
   "metadata": {},
   "outputs": [],
   "source": [
    "\n",
    "# Your code here\n"
   ]
  },
  {
   "cell_type": "markdown",
   "id": "f79776be",
   "metadata": {},
   "source": [
    "### OO Interface"
   ]
  },
  {
   "cell_type": "code",
   "execution_count": null,
   "id": "4c9e187f",
   "metadata": {},
   "outputs": [],
   "source": [
    "\n",
    "# Your code here\n"
   ]
  },
  {
   "cell_type": "markdown",
   "id": "219d0905",
   "metadata": {},
   "source": [
    "# 3 What is OO ax, really?"
   ]
  },
  {
   "cell_type": "markdown",
   "id": "1926124f",
   "metadata": {},
   "source": [
    "# 4 A complete OO example"
   ]
  },
  {
   "cell_type": "markdown",
   "id": "2bb59cc2",
   "metadata": {},
   "source": [
    "# 5 Multiple rows and columns"
   ]
  },
  {
   "cell_type": "markdown",
   "id": "a6df9201",
   "metadata": {},
   "source": [
    "### Using ax"
   ]
  },
  {
   "cell_type": "code",
   "execution_count": null,
   "id": "e538a4dd",
   "metadata": {},
   "outputs": [],
   "source": [
    "\n",
    "# Your code here\n"
   ]
  },
  {
   "cell_type": "markdown",
   "id": "73c251c1",
   "metadata": {},
   "source": [
    "## 5.1 Sharing axes"
   ]
  },
  {
   "cell_type": "markdown",
   "id": "470c837e",
   "metadata": {},
   "source": [
    "## 5.2 Accessing all axes"
   ]
  },
  {
   "cell_type": "markdown",
   "id": "a876c55f",
   "metadata": {},
   "source": [
    "# 6 Other useful plots"
   ]
  },
  {
   "cell_type": "markdown",
   "id": "9b2af19c",
   "metadata": {},
   "source": [
    "## 6.1 Histograms"
   ]
  },
  {
   "cell_type": "markdown",
   "id": "ece8ea65",
   "metadata": {},
   "source": [
    "### Data"
   ]
  },
  {
   "cell_type": "code",
   "execution_count": null,
   "id": "be75d269",
   "metadata": {},
   "outputs": [],
   "source": [
    "\n",
    "# Your code here\n"
   ]
  },
  {
   "cell_type": "markdown",
   "id": "63f16358",
   "metadata": {},
   "source": [
    "### A quick helper function"
   ]
  },
  {
   "cell_type": "code",
   "execution_count": null,
   "id": "0b6f7d14",
   "metadata": {},
   "outputs": [],
   "source": [
    "\n",
    "# Your code here\n"
   ]
  },
  {
   "cell_type": "markdown",
   "id": "a358c790",
   "metadata": {},
   "source": [
    "### The histogram"
   ]
  },
  {
   "cell_type": "code",
   "execution_count": null,
   "id": "f84f11de",
   "metadata": {},
   "outputs": [],
   "source": [
    "\n",
    "# Your code here\n"
   ]
  },
  {
   "cell_type": "markdown",
   "id": "dfb6f91e",
   "metadata": {},
   "source": [
    "## 6.2 Scatter plots"
   ]
  },
  {
   "cell_type": "markdown",
   "id": "f6b82d42",
   "metadata": {},
   "source": [
    "## 6.3 Bar charts"
   ]
  },
  {
   "cell_type": "markdown",
   "id": "0a3c0d0e",
   "metadata": {},
   "source": [
    "## 6.4 Pie charts"
   ]
  }
 ],
 "metadata": {
  "kernelspec": {
   "display_name": "Python 3 (ipykernel)",
   "language": "python",
   "name": "python3"
  },
  "language_info": {
   "codemirror_mode": {
    "name": "ipython",
    "version": 3
   },
   "file_extension": ".py",
   "mimetype": "text/x-python",
   "name": "python",
   "nbconvert_exporter": "python",
   "pygments_lexer": "ipython3",
   "version": "3.11.5"
  },
  "toc": {
   "base_numbering": 1,
   "nav_menu": {},
   "number_sections": true,
   "sideBar": true,
   "skip_h1_title": false,
   "title_cell": "Table of Contents",
   "title_sidebar": "Contents",
   "toc_cell": false,
   "toc_position": {},
   "toc_section_display": true,
   "toc_window_display": false
  },
  "varInspector": {
   "cols": {
    "lenName": 16,
    "lenType": 16,
    "lenVar": 40
   },
   "kernels_config": {
    "python": {
     "delete_cmd_postfix": "",
     "delete_cmd_prefix": "del ",
     "library": "var_list.py",
     "varRefreshCmd": "print(var_dic_list())"
    },
    "r": {
     "delete_cmd_postfix": ") ",
     "delete_cmd_prefix": "rm(",
     "library": "var_list.r",
     "varRefreshCmd": "cat(var_dic_list()) "
    }
   },
   "types_to_exclude": [
    "module",
    "function",
    "builtin_function_or_method",
    "instance",
    "_Feature"
   ],
   "window_display": false
  },
  "vscode": {
   "interpreter": {
    "hash": "31f2aee4e71d21fbe5cf8b01ff0e069b9275f58929596ceb00d14d90e3e16cd6"
   }
  }
 },
 "nbformat": 4,
 "nbformat_minor": 5
}
