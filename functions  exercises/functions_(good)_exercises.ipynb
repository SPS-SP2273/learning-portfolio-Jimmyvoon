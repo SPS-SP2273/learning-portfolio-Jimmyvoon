{
 "cells": [
  {
   "cell_type": "markdown",
   "id": "123456",
   "metadata": {},
   "source": [
    "<div style=\"text-align:left;font-size:2em\"><span style=\"font-weight:bolder;font-size:1.25em\">SP2273 | Learning Portfolio</span><br><br><span style=\"font-weight:bold;color:darkred\">Functions (Good) Exercises</span></div>"
   ]
  },
  {
   "cell_type": "markdown",
   "id": "a1347b86",
   "metadata": {},
   "source": [
    "# Exercise 1"
   ]
  },
  {
   "cell_type": "code",
   "execution_count": 4,
   "id": "8cefc89b",
   "metadata": {},
   "outputs": [
    {
     "name": "stdout",
     "output_type": "stream",
     "text": [
      "300\n"
     ]
    }
   ],
   "source": [
    "def convert_celsius(temperature_celsius,target_scale='Fahrenheit'):\n",
    "    if target_scale=='Kelvin':\n",
    "        return temperature_celsius+273\n",
    "    return  temperature_celsius*9/5+32\n",
    "print(convert_celsius(27,'Kelvin'))"
   ]
  },
  {
   "cell_type": "markdown",
   "id": "97524885",
   "metadata": {},
   "source": [
    "# Exercise 2"
   ]
  },
  {
   "cell_type": "code",
   "execution_count": 9,
   "id": "c8336ce6",
   "metadata": {},
   "outputs": [
    {
     "name": "stdout",
     "output_type": "stream",
     "text": [
      "270.22222222222223\n"
     ]
    }
   ],
   "source": [
    "def convert_fahrenheit(temperature_fahrenheit,target_scale='Celsius'):\n",
    "    if target_scale=='Kelvin':\n",
    "        return (temperature_fahrenheit-32)*5/9+273\n",
    "    return (temperature_fahrenheit-32)*5/9\n",
    "print(convert_fahrenheit(27,'Kelvin'))"
   ]
  },
  {
   "cell_type": "markdown",
   "id": "69086668",
   "metadata": {},
   "source": [
    "# Exercise 3"
   ]
  },
  {
   "cell_type": "code",
   "execution_count": 8,
   "id": "b153db85",
   "metadata": {},
   "outputs": [
    {
     "name": "stdout",
     "output_type": "stream",
     "text": [
      "270.22222222222223\n"
     ]
    }
   ],
   "source": [
    "def convert_temperature(temperature,source_scale,target_scale):\n",
    "    if source_scale=='Kelvin':\n",
    "        if target_scale=='Celsius':\n",
    "            return temperature-273\n",
    "        elif target_scale=='Fahrenheit':\n",
    "            return convert_celsius(temperature-273)\n",
    "    elif source_scale=='Celsius':\n",
    "        return convert_celsius(temperature,target_scale)\n",
    "    elif source_scale=='Fahrenheit':\n",
    "        return convert_fahrenheit(temperature,target_scale)\n",
    "print(convert_temperature(27,'Fahrenheit','Kelvin'))"
   ]
  }
 ],
 "metadata": {
  "kernelspec": {
   "display_name": "Python 3 (ipykernel)",
   "language": "python",
   "name": "python3"
  },
  "language_info": {
   "codemirror_mode": {
    "name": "ipython",
    "version": 3
   },
   "file_extension": ".py",
   "mimetype": "text/x-python",
   "name": "python",
   "nbconvert_exporter": "python",
   "pygments_lexer": "ipython3",
   "version": "3.11.5"
  },
  "toc": {
   "base_numbering": 1,
   "nav_menu": {},
   "number_sections": true,
   "sideBar": true,
   "skip_h1_title": false,
   "title_cell": "Table of Contents",
   "title_sidebar": "Contents",
   "toc_cell": false,
   "toc_position": {},
   "toc_section_display": true,
   "toc_window_display": false
  },
  "varInspector": {
   "cols": {
    "lenName": 16,
    "lenType": 16,
    "lenVar": 40
   },
   "kernels_config": {
    "python": {
     "delete_cmd_postfix": "",
     "delete_cmd_prefix": "del ",
     "library": "var_list.py",
     "varRefreshCmd": "print(var_dic_list())"
    },
    "r": {
     "delete_cmd_postfix": ") ",
     "delete_cmd_prefix": "rm(",
     "library": "var_list.r",
     "varRefreshCmd": "cat(var_dic_list()) "
    }
   },
   "types_to_exclude": [
    "module",
    "function",
    "builtin_function_or_method",
    "instance",
    "_Feature"
   ],
   "window_display": false
  },
  "vscode": {
   "interpreter": {
    "hash": "31f2aee4e71d21fbe5cf8b01ff0e069b9275f58929596ceb00d14d90e3e16cd6"
   }
  }
 },
 "nbformat": 4,
 "nbformat_minor": 5
}
