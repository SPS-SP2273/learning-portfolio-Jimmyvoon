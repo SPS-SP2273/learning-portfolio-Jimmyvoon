{
 "cells": [
  {
   "cell_type": "markdown",
   "id": "123456",
   "metadata": {},
   "source": [
    "<div style=\"text-align:left;font-size:2em\"><span style=\"font-weight:bolder;font-size:1.25em\">SP2273 | Learning Portfolio</span><br><br><span style=\"font-weight:bold;color:darkred\">Loops (Good) Exercises</span></div>"
   ]
  },
  {
   "cell_type": "markdown",
   "id": "96c6a784",
   "metadata": {},
   "source": [
    "# Exercise 1"
   ]
  },
  {
   "cell_type": "code",
   "execution_count": 2,
   "id": "1d88c54d",
   "metadata": {},
   "outputs": [
    {
     "name": "stdout",
     "output_type": "stream",
     "text": [
      "[1, 9, 25, 49, 81]\n"
     ]
    }
   ],
   "source": [
    "list_1 = []\n",
    "for i in range(10):\n",
    "    if i % 2 != 0:\n",
    "        list_1.append(i**2)\n",
    "print(list_1)"
   ]
  },
  {
   "cell_type": "markdown",
   "id": "e971e487",
   "metadata": {},
   "source": [
    "# Exercise 2"
   ]
  },
  {
   "cell_type": "code",
   "execution_count": 2,
   "id": "6930f429",
   "metadata": {},
   "outputs": [
    {
     "data": {
      "text/plain": [
       "[1, 9, 25, 49, 81]"
      ]
     },
     "execution_count": 2,
     "metadata": {},
     "output_type": "execute_result"
    }
   ],
   "source": [
    "[i**2 for i in range(10) if i%2!=0]"
   ]
  },
  {
   "cell_type": "markdown",
   "id": "e44faa3b",
   "metadata": {},
   "source": [
    "# Exercise 3"
   ]
  },
  {
   "cell_type": "code",
   "execution_count": 6,
   "id": "666a7af1",
   "metadata": {},
   "outputs": [
    {
     "name": "stdout",
     "output_type": "stream",
     "text": [
      "971 ns ± 18.7 ns per loop (mean ± std. dev. of 7 runs, 1,000,000 loops each)\n"
     ]
    }
   ],
   "source": [
    "%%timeit\n",
    "list_1 = []\n",
    "for i in range(10):\n",
    "    if i % 2 != 0:\n",
    "        list_1.append(i**2)"
   ]
  },
  {
   "cell_type": "code",
   "execution_count": 8,
   "id": "68b17583",
   "metadata": {},
   "outputs": [
    {
     "name": "stdout",
     "output_type": "stream",
     "text": [
      "1.1 µs ± 28.5 ns per loop (mean ± std. dev. of 7 runs, 1,000,000 loops each)\n"
     ]
    }
   ],
   "source": [
    "%%timeit\n",
    "[i**2 for i in range(10) if i%2!=0]"
   ]
  },
  {
   "cell_type": "markdown",
   "id": "345c9fd3",
   "metadata": {},
   "source": [
    "# Exercise 4"
   ]
  },
  {
   "cell_type": "code",
   "execution_count": 13,
   "id": "fb7a2ca8",
   "metadata": {},
   "outputs": [
    {
     "name": "stdout",
     "output_type": "stream",
     "text": [
      "14\n"
     ]
    }
   ],
   "source": [
    "year = 0\n",
    "initial_quantity = 100\n",
    "current_quantity = 100\n",
    "while current_quantity > initial_quantity/2:\n",
    "    current_quantity *= 0.95\n",
    "    year+=1\n",
    "print(year)"
   ]
  },
  {
   "cell_type": "markdown",
   "id": "9ffa3247",
   "metadata": {},
   "source": [
    "# Exercise 5"
   ]
  },
  {
   "cell_type": "code",
   "execution_count": 17,
   "id": "ca42a9a2",
   "metadata": {},
   "outputs": [
    {
     "name": "stdout",
     "output_type": "stream",
     "text": [
      "2016 : 3.410000000000025\n"
     ]
    }
   ],
   "source": [
    "co2_data = [\n",
    "    (2000, 369.55), (2001, 371.14), (2002, 373.28), \n",
    "    (2003, 375.80), (2004, 377.52), (2005, 379.80), \n",
    "    (2006, 381.90), (2007, 383.79), (2008, 385.60), \n",
    "    (2009, 387.43), (2010, 389.90), (2011, 391.65), \n",
    "    (2012, 393.85), (2013, 396.52), (2014, 398.65),\n",
    "    (2015, 400.83), (2016, 404.24), (2017, 406.55), \n",
    "    (2018, 408.52), (2019, 411.44), (2020, 414.24)\n",
    "]\n",
    "difference = None\n",
    "for i in range(len(co2_data)-1):\n",
    "    difference = co2_data[i+1][1]-co2_data[i][1]\n",
    "    if difference>=3:\n",
    "        print(f\"{co2_data[i+1][0]} : {difference}\")"
   ]
  },
  {
   "cell_type": "code",
   "execution_count": null,
   "id": "4dae3109",
   "metadata": {},
   "outputs": [],
   "source": []
  }
 ],
 "metadata": {
  "kernelspec": {
   "display_name": "Python 3 (ipykernel)",
   "language": "python",
   "name": "python3"
  },
  "language_info": {
   "codemirror_mode": {
    "name": "ipython",
    "version": 3
   },
   "file_extension": ".py",
   "mimetype": "text/x-python",
   "name": "python",
   "nbconvert_exporter": "python",
   "pygments_lexer": "ipython3",
   "version": "3.11.5"
  },
  "toc": {
   "base_numbering": 1,
   "nav_menu": {},
   "number_sections": true,
   "sideBar": true,
   "skip_h1_title": false,
   "title_cell": "Table of Contents",
   "title_sidebar": "Contents",
   "toc_cell": false,
   "toc_position": {},
   "toc_section_display": true,
   "toc_window_display": false
  },
  "varInspector": {
   "cols": {
    "lenName": 16,
    "lenType": 16,
    "lenVar": 40
   },
   "kernels_config": {
    "python": {
     "delete_cmd_postfix": "",
     "delete_cmd_prefix": "del ",
     "library": "var_list.py",
     "varRefreshCmd": "print(var_dic_list())"
    },
    "r": {
     "delete_cmd_postfix": ") ",
     "delete_cmd_prefix": "rm(",
     "library": "var_list.r",
     "varRefreshCmd": "cat(var_dic_list()) "
    }
   },
   "types_to_exclude": [
    "module",
    "function",
    "builtin_function_or_method",
    "instance",
    "_Feature"
   ],
   "window_display": false
  },
  "vscode": {
   "interpreter": {
    "hash": "31f2aee4e71d21fbe5cf8b01ff0e069b9275f58929596ceb00d14d90e3e16cd6"
   }
  }
 },
 "nbformat": 4,
 "nbformat_minor": 5
}
