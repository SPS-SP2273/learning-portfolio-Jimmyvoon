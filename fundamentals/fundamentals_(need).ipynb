{
 "cells": [
  {
   "cell_type": "markdown",
   "id": "123456",
   "metadata": {},
   "source": [
    "<div style=\"text-align:left;font-size:2em\"><span style=\"font-weight:bolder;font-size:1.25em\">SP2273 | Learning Portfolio</span><br><br><span style=\"font-weight:bold;color:darkred\">Fundamentals (Need)</span></div>"
   ]
  },
  {
   "cell_type": "markdown",
   "id": "c313c45f",
   "metadata": {},
   "source": [
    "# What to expect in this chapter"
   ]
  },
  {
   "cell_type": "markdown",
   "id": "5de90d7c",
   "metadata": {},
   "source": [
    "# 1 Functions"
   ]
  },
  {
   "cell_type": "code",
   "execution_count": 1,
   "id": "0ba49660-e8d1-4381-83d6-f8aec4c074f1",
   "metadata": {},
   "outputs": [
    {
     "name": "stdout",
     "output_type": "stream",
     "text": [
      "Hello world!\n"
     ]
    }
   ],
   "source": [
    "print('Hello world!')"
   ]
  },
  {
   "cell_type": "markdown",
   "id": "096bf370",
   "metadata": {},
   "source": [
    "# 2 Remember"
   ]
  },
  {
   "cell_type": "markdown",
   "id": "46e2356c",
   "metadata": {},
   "source": [
    "- A function is ‘something’ that executes a specific task.\n",
    "- A function may or may not accept arguments.\n",
    "- We can define our own functions."
   ]
  },
  {
   "cell_type": "markdown",
   "id": "575c635e",
   "metadata": {},
   "source": [
    "# 3 Python is interpreted"
   ]
  },
  {
   "cell_type": "code",
   "execution_count": 1,
   "id": "b1987586-d1e6-4f24-98ad-3d3ae706c49e",
   "metadata": {},
   "outputs": [
    {
     "name": "stdout",
     "output_type": "stream",
     "text": [
      "Hello World\n",
      "Hello World again\n",
      "Jimmy Voon\n"
     ]
    }
   ],
   "source": [
    "print('Hello World')\n",
    "print('Hello World again')\n",
    "print('Jimmy Voon')"
   ]
  },
  {
   "cell_type": "code",
   "execution_count": 2,
   "id": "9b3fe88a",
   "metadata": {},
   "outputs": [
    {
     "ename": "NameError",
     "evalue": "name 'Jimmy' is not defined",
     "output_type": "error",
     "traceback": [
      "\u001b[1;31m---------------------------------------------------------------------------\u001b[0m",
      "\u001b[1;31mNameError\u001b[0m                                 Traceback (most recent call last)",
      "Cell \u001b[1;32mIn[2], line 1\u001b[0m\n\u001b[1;32m----> 1\u001b[0m \u001b[38;5;28mprint\u001b[39m(\u001b[43mJimmy\u001b[49m)\n",
      "\u001b[1;31mNameError\u001b[0m: name 'Jimmy' is not defined"
     ]
    }
   ],
   "source": [
    "print(Jimmy)"
   ]
  },
  {
   "cell_type": "markdown",
   "id": "a4f06110",
   "metadata": {},
   "source": [
    "# 4 Python is sensitive."
   ]
  },
  {
   "cell_type": "code",
   "execution_count": 3,
   "id": "26ac33d3-a547-424d-b5b8-608e5c60bd47",
   "metadata": {},
   "outputs": [
    {
     "name": "stdout",
     "output_type": "stream",
     "text": [
      "Hello World\n"
     ]
    },
    {
     "ename": "NameError",
     "evalue": "name 'Print' is not defined",
     "output_type": "error",
     "traceback": [
      "\u001b[1;31m---------------------------------------------------------------------------\u001b[0m",
      "\u001b[1;31mNameError\u001b[0m                                 Traceback (most recent call last)",
      "Cell \u001b[1;32mIn[3], line 2\u001b[0m\n\u001b[0;32m      1\u001b[0m \u001b[38;5;28mprint\u001b[39m(\u001b[38;5;124m'\u001b[39m\u001b[38;5;124mHello World\u001b[39m\u001b[38;5;124m'\u001b[39m)      \u001b[38;5;66;03m# This WILL work\u001b[39;00m\n\u001b[1;32m----> 2\u001b[0m \u001b[43mPrint\u001b[49m(\u001b[38;5;124m'\u001b[39m\u001b[38;5;124mHello World\u001b[39m\u001b[38;5;124m'\u001b[39m)      \u001b[38;5;66;03m# This will NOT work\u001b[39;00m\n",
      "\u001b[1;31mNameError\u001b[0m: name 'Print' is not defined"
     ]
    }
   ],
   "source": [
    "print('Hello World')      # This WILL work\n",
    "Print('Hello World')      # This will NOT work"
   ]
  },
  {
   "cell_type": "markdown",
   "id": "f47d0282",
   "metadata": {},
   "source": [
    "# 5 Remember"
   ]
  },
  {
   "cell_type": "markdown",
   "id": "9d30dd97-c6f6-4d36-9c37-98a20c0a9798",
   "metadata": {},
   "source": [
    "Python is case-sensitive."
   ]
  },
  {
   "cell_type": "markdown",
   "id": "59439355",
   "metadata": {},
   "source": [
    "# 6 Comments"
   ]
  },
  {
   "cell_type": "code",
   "execution_count": 4,
   "id": "410ee197-f681-41f8-9fb2-137feb89c81e",
   "metadata": {},
   "outputs": [
    {
     "name": "stdout",
     "output_type": "stream",
     "text": [
      "One\n",
      "Three\n"
     ]
    }
   ],
   "source": [
    "# This is a comment\n",
    "print('One')              # This is a comment.\n",
    "# print('Two')            # The interpreter ignores this line.\n",
    "print('Three')            # This is\n",
    "                          # also a way to\n",
    "                          # write comments"
   ]
  },
  {
   "cell_type": "markdown",
   "id": "1c624545",
   "metadata": {},
   "source": [
    "# 7 Remember"
   ]
  },
  {
   "cell_type": "markdown",
   "id": "d7571594",
   "metadata": {},
   "source": [
    "Use comments to emphasize the purpose of the code."
   ]
  },
  {
   "cell_type": "markdown",
   "id": "6ef19ff9",
   "metadata": {},
   "source": [
    "# 8 = is not the same as =="
   ]
  },
  {
   "cell_type": "markdown",
   "id": "0b8c1041",
   "metadata": {},
   "source": [
    "= is used to set something equal."
   ]
  },
  {
   "cell_type": "code",
   "execution_count": 3,
   "id": "518f075b",
   "metadata": {},
   "outputs": [],
   "source": [
    "name = 'Batman'   # Make name carry 'Batman'"
   ]
  },
  {
   "cell_type": "markdown",
   "id": "2d741c5f",
   "metadata": {},
   "source": [
    "== is used to check if something is equal (i.e., asking a question)."
   ]
  },
  {
   "cell_type": "code",
   "execution_count": 4,
   "id": "c6b06ba1",
   "metadata": {},
   "outputs": [
    {
     "data": {
      "text/plain": [
       "True"
      ]
     },
     "execution_count": 4,
     "metadata": {},
     "output_type": "execute_result"
    }
   ],
   "source": [
    "name == 'Batman'  # Tell me if name is equal to 'Batman'?\n",
    "                  # Answer:  True or False"
   ]
  },
  {
   "cell_type": "markdown",
   "id": "d7dad9db",
   "metadata": {},
   "source": [
    "# 9 Remember"
   ]
  },
  {
   "cell_type": "markdown",
   "id": "285daae9",
   "metadata": {},
   "source": [
    "- = is not the same as ==\n",
    "- = assigns a value and\n",
    "- == asks a question"
   ]
  },
  {
   "cell_type": "markdown",
   "id": "0fa69b07",
   "metadata": {},
   "source": [
    "# 10 Use if to make decisions"
   ]
  },
  {
   "cell_type": "markdown",
   "id": "fd7f0489",
   "metadata": {},
   "source": [
    "Using data to inform decisions is fundamental in both life and programming. In programming, we achieve this through the use of the \"if\" statement, which allows us to branch the flow of the program based on specified conditions."
   ]
  },
  {
   "cell_type": "code",
   "execution_count": 5,
   "id": "c48caf60",
   "metadata": {},
   "outputs": [
    {
     "name": "stdout",
     "output_type": "stream",
     "text": [
      "Hello Batman!\n"
     ]
    }
   ],
   "source": [
    "name = 'Batman'\n",
    "\n",
    "if name == 'Batman':\n",
    "    print('Hello Batman!')\n",
    "else:\n",
    "    print('Hello World!')"
   ]
  },
  {
   "cell_type": "markdown",
   "id": "bc62ee39",
   "metadata": {},
   "source": [
    "# 11 Remember"
   ]
  },
  {
   "cell_type": "markdown",
   "id": "2fa38d6f",
   "metadata": {},
   "source": [
    "You can use if to make decisions."
   ]
  },
  {
   "cell_type": "markdown",
   "id": "269de380",
   "metadata": {},
   "source": [
    "# 12 Indentations (spaces) are sooo IMPORTANT!"
   ]
  },
  {
   "cell_type": "code",
   "execution_count": 6,
   "id": "343eea48",
   "metadata": {},
   "outputs": [
    {
     "name": "stdout",
     "output_type": "stream",
     "text": [
      "10\n"
     ]
    }
   ],
   "source": [
    "x = 10\n",
    "print(x)   #will work"
   ]
  },
  {
   "cell_type": "code",
   "execution_count": 7,
   "id": "10ea64be",
   "metadata": {},
   "outputs": [
    {
     "ename": "IndentationError",
     "evalue": "unexpected indent (1537435392.py, line 2)",
     "output_type": "error",
     "traceback": [
      "\u001b[1;36m  Cell \u001b[1;32mIn[7], line 2\u001b[1;36m\u001b[0m\n\u001b[1;33m    print(x)\u001b[0m\n\u001b[1;37m    ^\u001b[0m\n\u001b[1;31mIndentationError\u001b[0m\u001b[1;31m:\u001b[0m unexpected indent\n"
     ]
    }
   ],
   "source": [
    "x = 10\n",
    " print(x)  #will not work because there is an unexpectd indentation"
   ]
  },
  {
   "cell_type": "code",
   "execution_count": 8,
   "id": "3c9c518b",
   "metadata": {},
   "outputs": [
    {
     "name": "stdout",
     "output_type": "stream",
     "text": [
      "False\n"
     ]
    }
   ],
   "source": [
    "#The same applies to if-else statement\n",
    "a=10\n",
    "if a<9:\n",
    "    print('True')   #There must be indentaton\n",
    "else:\n",
    "    print(\"False\")"
   ]
  },
  {
   "cell_type": "code",
   "execution_count": 9,
   "id": "72f73243",
   "metadata": {},
   "outputs": [
    {
     "name": "stdout",
     "output_type": "stream",
     "text": [
      "False\n"
     ]
    }
   ],
   "source": [
    "a=10\n",
    "if a<9:\n",
    " print('True')   #small indentation also works  but space and tab are different. Error will occur if there is a lot of indentation\n",
    "                #This also help reduce clutter\n",
    "else:\n",
    " print(\"False\")"
   ]
  },
  {
   "cell_type": "markdown",
   "id": "a4c7eee3",
   "metadata": {},
   "source": [
    "# 13 Remember"
   ]
  },
  {
   "cell_type": "markdown",
   "id": "31c02e48",
   "metadata": {},
   "source": [
    "- Indentations play a crucial role in Python; do not use them indiscriminately\n",
    "- : is used to designate a block of code."
   ]
  },
  {
   "cell_type": "markdown",
   "id": "70aeba15",
   "metadata": {},
   "source": [
    "# 14 ‘age’ is English, age is a variable."
   ]
  },
  {
   "cell_type": "code",
   "execution_count": 12,
   "id": "b17452dc",
   "metadata": {},
   "outputs": [
    {
     "name": "stdout",
     "output_type": "stream",
     "text": [
      "24\n",
      "age\n"
     ]
    }
   ],
   "source": [
    "age=24\n",
    "print(age)       # Print the value of the variable age  (number which is assigned to variable age earlier)\n",
    "print(\"age\")     # Print the English word 'age'     (string)"
   ]
  },
  {
   "cell_type": "code",
   "execution_count": 13,
   "id": "68f414cf",
   "metadata": {},
   "outputs": [
    {
     "name": "stdout",
     "output_type": "stream",
     "text": [
      "10\n"
     ]
    }
   ],
   "source": [
    "age = 10\n",
    "print(age)"
   ]
  },
  {
   "cell_type": "code",
   "execution_count": 14,
   "id": "755852c9",
   "metadata": {},
   "outputs": [
    {
     "name": "stdout",
     "output_type": "stream",
     "text": [
      "You're twenty years old.\n"
     ]
    }
   ],
   "source": [
    "print(\"You're twenty years old.\")"
   ]
  },
  {
   "cell_type": "markdown",
   "id": "0e297913",
   "metadata": {},
   "source": [
    "# 15 Brackets"
   ]
  },
  {
   "cell_type": "markdown",
   "id": "e2ab8e2f",
   "metadata": {},
   "source": [
    "Python uses all three types of brackets ( ), [ ] and { }"
   ]
  },
  {
   "cell_type": "code",
   "execution_count": 15,
   "id": "c34dcc9d",
   "metadata": {},
   "outputs": [
    {
     "name": "stdout",
     "output_type": "stream",
     "text": [
      "Hello!\n"
     ]
    }
   ],
   "source": [
    "print('Hello!')             # In functions"
   ]
  },
  {
   "cell_type": "code",
   "execution_count": 16,
   "id": "7473bf32",
   "metadata": {},
   "outputs": [
    {
     "data": {
      "text/plain": [
       "15"
      ]
     },
     "execution_count": 16,
     "metadata": {},
     "output_type": "execute_result"
    }
   ],
   "source": [
    "(1 + 2) * 5                 # For math"
   ]
  },
  {
   "cell_type": "code",
   "execution_count": 17,
   "id": "649aaa1d",
   "metadata": {},
   "outputs": [],
   "source": [
    "py_list = [1, 2, 3, 4, 5]   # A 1D list\n",
    "\n",
    "py_list_2 = [               # A 2D list\n",
    "                [1, \"A\"],      \n",
    "                [2, \"B\"],\n",
    "                [3, \"C\"],\n",
    "                [4, \"D\"],\n",
    "                [5, \"E\"]\n",
    "            ]"
   ]
  },
  {
   "cell_type": "code",
   "execution_count": 18,
   "id": "352e73c1",
   "metadata": {},
   "outputs": [],
   "source": [
    "personal_info = {\n",
    "    'Names': 'Batman',\n",
    "    'Real Name': 'Bruce Wayne',\n",
    "    'Age': 55,\n",
    "    'Affiliation': 'Justice League',\n",
    "    'Universe': 'DC'\n",
    "}     #dictionary store value in key which can be assessed by just calling the key"
   ]
  },
  {
   "cell_type": "code",
   "execution_count": 19,
   "id": "d3faad16",
   "metadata": {},
   "outputs": [
    {
     "name": "stdout",
     "output_type": "stream",
     "text": [
      "Bruce Wayne\n"
     ]
    }
   ],
   "source": [
    "print(personal_info['Real Name'])    "
   ]
  },
  {
   "cell_type": "markdown",
   "id": "21dbd504",
   "metadata": {},
   "source": [
    "# 16 Giving Python superpowers with Packages"
   ]
  },
  {
   "cell_type": "markdown",
   "id": "6640fbc8",
   "metadata": {},
   "source": [
    "## 16.1 Some Context"
   ]
  },
  {
   "cell_type": "code",
   "execution_count": 20,
   "id": "53a7416f",
   "metadata": {},
   "outputs": [
    {
     "data": {
      "text/plain": [
       "40.5"
      ]
     },
     "execution_count": 20,
     "metadata": {},
     "output_type": "execute_result"
    }
   ],
   "source": [
    "1 * ((2 - 3) + 4) ** 5 / 6"
   ]
  },
  {
   "cell_type": "code",
   "execution_count": null,
   "id": "41443d8c",
   "metadata": {},
   "outputs": [],
   "source": [
    "sqrt(4)      # Will NOT work because \n",
    "             # basic Python is limited"
   ]
  },
  {
   "cell_type": "markdown",
   "id": "4af4f041",
   "metadata": {},
   "source": [
    "sqrt is not a basic function in python"
   ]
  },
  {
   "cell_type": "code",
   "execution_count": 21,
   "id": "e247a808",
   "metadata": {},
   "outputs": [
    {
     "data": {
      "text/plain": [
       "2.0"
      ]
     },
     "execution_count": 21,
     "metadata": {},
     "output_type": "execute_result"
    }
   ],
   "source": [
    "import math         # Adding(importing) the functions\n",
    "                    # of the 'math' package   \n",
    "math.sqrt(4)"
   ]
  },
  {
   "cell_type": "markdown",
   "id": "465586e0",
   "metadata": {},
   "source": [
    "We use the function from the module called math which we imported to this module we work on"
   ]
  },
  {
   "cell_type": "markdown",
   "id": "f36be1e0",
   "metadata": {},
   "source": [
    "## 16.2 Importing the math package"
   ]
  },
  {
   "cell_type": "markdown",
   "id": "843decb8",
   "metadata": {},
   "source": [
    "## 16.3 Importing the numpy package"
   ]
  },
  {
   "cell_type": "markdown",
   "id": "8e1de2b0",
   "metadata": {},
   "source": [
    "## 16.4 Why so many packages?"
   ]
  },
  {
   "cell_type": "markdown",
   "id": "aec3817e",
   "metadata": {},
   "source": [
    "# 17 Remember"
   ]
  },
  {
   "cell_type": "markdown",
   "id": "cd3d9872",
   "metadata": {},
   "source": [
    "# 18 The dot (.)"
   ]
  },
  {
   "cell_type": "markdown",
   "id": "196e1468",
   "metadata": {},
   "source": [
    "# 19 Remember"
   ]
  },
  {
   "cell_type": "markdown",
   "id": "63db3e52",
   "metadata": {},
   "source": [
    "## Footnotes"
   ]
  }
 ],
 "metadata": {
  "kernelspec": {
   "display_name": "Python 3 (ipykernel)",
   "language": "python",
   "name": "python3"
  },
  "language_info": {
   "codemirror_mode": {
    "name": "ipython",
    "version": 3
   },
   "file_extension": ".py",
   "mimetype": "text/x-python",
   "name": "python",
   "nbconvert_exporter": "python",
   "pygments_lexer": "ipython3",
   "version": "3.11.5"
  },
  "toc": {
   "base_numbering": 1,
   "nav_menu": {},
   "number_sections": true,
   "sideBar": true,
   "skip_h1_title": false,
   "title_cell": "Table of Contents",
   "title_sidebar": "Contents",
   "toc_cell": false,
   "toc_position": {},
   "toc_section_display": true,
   "toc_window_display": false
  },
  "varInspector": {
   "cols": {
    "lenName": 16,
    "lenType": 16,
    "lenVar": 40
   },
   "kernels_config": {
    "python": {
     "delete_cmd_postfix": "",
     "delete_cmd_prefix": "del ",
     "library": "var_list.py",
     "varRefreshCmd": "print(var_dic_list())"
    },
    "r": {
     "delete_cmd_postfix": ") ",
     "delete_cmd_prefix": "rm(",
     "library": "var_list.r",
     "varRefreshCmd": "cat(var_dic_list()) "
    }
   },
   "types_to_exclude": [
    "module",
    "function",
    "builtin_function_or_method",
    "instance",
    "_Feature"
   ],
   "window_display": false
  },
  "vscode": {
   "interpreter": {
    "hash": "31f2aee4e71d21fbe5cf8b01ff0e069b9275f58929596ceb00d14d90e3e16cd6"
   }
  }
 },
 "nbformat": 4,
 "nbformat_minor": 5
}
