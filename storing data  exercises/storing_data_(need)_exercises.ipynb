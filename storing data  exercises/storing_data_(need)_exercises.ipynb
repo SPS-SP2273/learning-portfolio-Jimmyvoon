{
 "cells": [
  {
   "cell_type": "markdown",
   "id": "123456",
   "metadata": {},
   "source": [
    "<div style=\"text-align:left;font-size:2em\"><span style=\"font-weight:bolder;font-size:1.25em\">SP2273 | Learning Portfolio</span><br><br><span style=\"font-weight:bold;color:darkred\">Storing Data (Need) Exercises</span></div>"
   ]
  },
  {
   "cell_type": "markdown",
   "id": "61f626ad",
   "metadata": {},
   "source": [
    "# Exercise 1:"
   ]
  },
  {
   "cell_type": "markdown",
   "id": "2ce3d771",
   "metadata": {},
   "source": [
    "## Similarities:"
   ]
  },
  {
   "cell_type": "markdown",
   "id": "6a1e1ab9",
   "metadata": {},
   "source": [
    "Able to store data"
   ]
  },
  {
   "cell_type": "markdown",
   "id": "d49490bc",
   "metadata": {},
   "source": [
    "have the same size"
   ]
  },
  {
   "cell_type": "markdown",
   "id": "e174c984",
   "metadata": {},
   "source": [
    "## Differences:"
   ]
  },
  {
   "cell_type": "markdown",
   "id": "ef3f123c",
   "metadata": {},
   "source": [
    "List can store different types of data but array can only store a single data type"
   ]
  },
  {
   "cell_type": "markdown",
   "id": "dba0b3cd",
   "metadata": {},
   "source": [
    "Operations work on the whole list meanwhile in array the operations work on the individual elements stored in the array"
   ]
  },
  {
   "cell_type": "markdown",
   "id": "0d1491fb",
   "metadata": {},
   "source": [
    "## Dictionary:"
   ]
  },
  {
   "cell_type": "markdown",
   "id": "e484f323",
   "metadata": {},
   "source": [
    "Store data in a form of key and value with every key associated with a value "
   ]
  },
  {
   "cell_type": "markdown",
   "id": "5b940112",
   "metadata": {},
   "source": [
    "# Exercise 2:"
   ]
  },
  {
   "cell_type": "code",
   "execution_count": 1,
   "id": "3f44a619",
   "metadata": {},
   "outputs": [
    {
     "name": "stdout",
     "output_type": "stream",
     "text": [
      "a1\n",
      "c3\n",
      "e5\n",
      "g7\n",
      "i9\n"
     ]
    }
   ],
   "source": [
    "py_list = [\"a1\", \"b2\", \"c3\", \"d4\", \"e5\", \"f6\", \"g7\", \"h8\", \"i9\", \"j10\"]\n",
    "print(py_list[0])                    # Prints 'a1'\n",
    "print(py_list[2])                     # Prints 'c3'\n",
    "print(py_list[4])                     # Prints 'e5'\n",
    "print(py_list[6])                     # Prints 'g7'\n",
    "print(py_list[8])   # Prints 'i9'"
   ]
  },
  {
   "cell_type": "markdown",
   "id": "bae02ad6",
   "metadata": {},
   "source": [
    "# Exercise 3:"
   ]
  },
  {
   "cell_type": "code",
   "execution_count": 2,
   "id": "e53131b8",
   "metadata": {},
   "outputs": [
    {
     "name": "stdout",
     "output_type": "stream",
     "text": [
      "Boron\n",
      "Boron\n"
     ]
    }
   ],
   "source": [
    "elements = ['Hydrogen',\n",
    "            'Helium', 'Lithium',\n",
    "            'Beryllium', 'Boron', 'Carbon',\n",
    "            'Nitrogen', 'Oxygen',\n",
    "            'Fluorine',\n",
    "            'Neon']\n",
    "print(elements[4])\n",
    "print(elements[-6])"
   ]
  },
  {
   "cell_type": "markdown",
   "id": "ec5b6d97",
   "metadata": {},
   "source": [
    "# Exercise 4"
   ]
  },
  {
   "cell_type": "code",
   "execution_count": 7,
   "id": "7548f697",
   "metadata": {},
   "outputs": [
    {
     "data": {
      "text/plain": [
       "9"
      ]
     },
     "execution_count": 7,
     "metadata": {},
     "output_type": "execute_result"
    }
   ],
   "source": [
    "import numpy as np\n",
    "numbers=[45, 60, 1, 30, 96, 1, 96, 57, 16, 1,\n",
    "        99, 62, 86, 43, 42, 60, 59, 1, 1, 35,\n",
    "        83, 47, 34, 28, 68, 23, 22, 92, 1, 79,\n",
    "        1, 29, 94, 72, 46, 47, 1, 74, 32, 20,\n",
    "        8, 37, 35, 1, 89, 29, 86, 19, 43, 61]                  \n",
    "np_array = np.array(numbers)\n",
    "new_array = np_array == 1\n",
    "new_array.sum()"
   ]
  }
 ],
 "metadata": {
  "kernelspec": {
   "display_name": "Python 3 (ipykernel)",
   "language": "python",
   "name": "python3"
  },
  "language_info": {
   "codemirror_mode": {
    "name": "ipython",
    "version": 3
   },
   "file_extension": ".py",
   "mimetype": "text/x-python",
   "name": "python",
   "nbconvert_exporter": "python",
   "pygments_lexer": "ipython3",
   "version": "3.11.5"
  },
  "toc": {
   "base_numbering": 1,
   "nav_menu": {},
   "number_sections": true,
   "sideBar": true,
   "skip_h1_title": false,
   "title_cell": "Table of Contents",
   "title_sidebar": "Contents",
   "toc_cell": false,
   "toc_position": {},
   "toc_section_display": true,
   "toc_window_display": false
  },
  "varInspector": {
   "cols": {
    "lenName": 16,
    "lenType": 16,
    "lenVar": 40
   },
   "kernels_config": {
    "python": {
     "delete_cmd_postfix": "",
     "delete_cmd_prefix": "del ",
     "library": "var_list.py",
     "varRefreshCmd": "print(var_dic_list())"
    },
    "r": {
     "delete_cmd_postfix": ") ",
     "delete_cmd_prefix": "rm(",
     "library": "var_list.r",
     "varRefreshCmd": "cat(var_dic_list()) "
    }
   },
   "types_to_exclude": [
    "module",
    "function",
    "builtin_function_or_method",
    "instance",
    "_Feature"
   ],
   "window_display": false
  },
  "vscode": {
   "interpreter": {
    "hash": "31f2aee4e71d21fbe5cf8b01ff0e069b9275f58929596ceb00d14d90e3e16cd6"
   }
  }
 },
 "nbformat": 4,
 "nbformat_minor": 5
}
