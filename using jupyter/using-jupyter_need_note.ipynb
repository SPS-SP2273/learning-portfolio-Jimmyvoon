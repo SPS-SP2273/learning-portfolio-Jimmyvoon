{
 "cells": [
  {
   "cell_type": "markdown",
   "id": "10b81c7f-00fb-489a-a74a-6d367f698733",
   "metadata": {},
   "source": [
    "# Hello World"
   ]
  },
  {
   "cell_type": "markdown",
   "id": "87ec494c-baba-47c1-b38e-da99cbd78fc7",
   "metadata": {},
   "source": [
    "The ships hung in the sky in much the same way that bricks don’t."
   ]
  },
  {
   "cell_type": "markdown",
   "id": "633b7ed3-2169-4299-a13f-aabfbe51dc92",
   "metadata": {},
   "source": [
    "The ships *hung in the sky* in much the same way that **bricks don’t.**<sup>1</sup><sub>QUOTE</sub>"
   ]
  },
  {
   "cell_type": "markdown",
   "id": "a275a959-6d0e-45d5-b408-bcd79d5f6f24",
   "metadata": {},
   "source": [
    "```python\n",
    "print(\"Hello World\")\n",
    "```"
   ]
  },
  {
   "cell_type": "markdown",
   "id": "4e7e1ec1-c417-400d-9512-084f1aeb006f",
   "metadata": {},
   "source": [
    "[SP2273 Website](https://sps.nus.edu.sg/sp2273)"
   ]
  },
  {
   "cell_type": "markdown",
   "id": "7fa76732-a07d-4963-8bf1-a6924602b25e",
   "metadata": {},
   "source": [
    "![](https://nus.edu.sg/images/default-source/base/logo.png)"
   ]
  },
  {
   "cell_type": "markdown",
   "id": "3f852a81-a38f-4da3-8167-974289b18d91",
   "metadata": {},
   "source": [
    "$\\dfrac{y}{x}$"
   ]
  },
  {
   "cell_type": "markdown",
   "id": "7897df64-0921-4b8d-90de-ff2eed96a200",
   "metadata": {},
   "source": [
    "$x_{a}$"
   ]
  },
  {
   "cell_type": "markdown",
   "id": "5d63b20b-c73d-4414-9289-a595d29f380c",
   "metadata": {},
   "source": [
    "$\\int_{x=1}^{x=\\infty} f(x)dx$\t"
   ]
  },
  {
   "cell_type": "markdown",
   "id": "41207c55-b7db-4e8a-9430-9dc3d89d4234",
   "metadata": {},
   "source": [
    "| a | b | c | d |   |\r\n",
    "|---|---|---|---|---|\r\n",
    "| 1 | 2 | 3 | 4 |   |\r\n",
    "|   |   |   |   |   |\r\n",
    "|   |   |   |   |   |"
   ]
  },
  {
   "cell_type": "markdown",
   "id": "59e3b7f9-aaa8-4313-aa8a-e197dbec8f10",
   "metadata": {},
   "source": [
    "1. Master Yoda\r\n",
    "1. Luke Skywalker\r\n",
    "1. Anakin Skywalker"
   ]
  },
  {
   "cell_type": "markdown",
   "id": "e055e1d2-3fa5-4bcb-a54b-6f18e67f3467",
   "metadata": {},
   "source": [
    "1. Master Yoda\r\n",
    "   - Was a Jedi\r\n",
    "   - Was a bit green\r\n",
    "1. Luke Skywalker\r\n",
    "   - Was a Jedi\r\n",
    "   - Is Anakin's son.\r\n",
    "1. Anakin Skywalker\r\n",
    "   - Was a Jedi then, became a baddie\r\n",
    "   - Is famous for saying, _'Luke, I am your father'_."
   ]
  },
  {
   "cell_type": "code",
   "execution_count": null,
   "id": "0db1d892-1fa0-449b-a8a8-4a54c0a10933",
   "metadata": {},
   "outputs": [],
   "source": []
  }
 ],
 "metadata": {
  "kernelspec": {
   "display_name": "Python 3 (ipykernel)",
   "language": "python",
   "name": "python3"
  },
  "language_info": {
   "codemirror_mode": {
    "name": "ipython",
    "version": 3
   },
   "file_extension": ".py",
   "mimetype": "text/x-python",
   "name": "python",
   "nbconvert_exporter": "python",
   "pygments_lexer": "ipython3",
   "version": "3.11.5"
  }
 },
 "nbformat": 4,
 "nbformat_minor": 5
}
